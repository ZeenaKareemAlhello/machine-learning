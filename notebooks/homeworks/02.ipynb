{
 "cells": [
  {
   "cell_type": "code",
   "execution_count": 57,
   "id": "5228735e",
   "metadata": {},
   "outputs": [],
   "source": [
    "import pandas\n",
    "import numpy"
   ]
  },
  {
   "cell_type": "code",
   "execution_count": 58,
   "id": "0329c0da",
   "metadata": {},
   "outputs": [],
   "source": [
    "df = pandas.read_csv(\"../../data/car_fuel_efficiency.csv\")"
   ]
  },
  {
   "cell_type": "code",
   "execution_count": 59,
   "id": "9e5d2ecf",
   "metadata": {},
   "outputs": [
    {
     "data": {
      "text/html": [
       "<div>\n",
       "<style scoped>\n",
       "    .dataframe tbody tr th:only-of-type {\n",
       "        vertical-align: middle;\n",
       "    }\n",
       "\n",
       "    .dataframe tbody tr th {\n",
       "        vertical-align: top;\n",
       "    }\n",
       "\n",
       "    .dataframe thead th {\n",
       "        text-align: right;\n",
       "    }\n",
       "</style>\n",
       "<table border=\"1\" class=\"dataframe\">\n",
       "  <thead>\n",
       "    <tr style=\"text-align: right;\">\n",
       "      <th></th>\n",
       "      <th>engine_displacement</th>\n",
       "      <th>horsepower</th>\n",
       "      <th>vehicle_weight</th>\n",
       "      <th>model_year</th>\n",
       "      <th>fuel_efficiency_mpg</th>\n",
       "    </tr>\n",
       "  </thead>\n",
       "  <tbody>\n",
       "    <tr>\n",
       "      <th>0</th>\n",
       "      <td>170</td>\n",
       "      <td>159.0</td>\n",
       "      <td>3413.433759</td>\n",
       "      <td>2003</td>\n",
       "      <td>13.231729</td>\n",
       "    </tr>\n",
       "    <tr>\n",
       "      <th>1</th>\n",
       "      <td>130</td>\n",
       "      <td>97.0</td>\n",
       "      <td>3149.664934</td>\n",
       "      <td>2007</td>\n",
       "      <td>13.688217</td>\n",
       "    </tr>\n",
       "    <tr>\n",
       "      <th>2</th>\n",
       "      <td>170</td>\n",
       "      <td>78.0</td>\n",
       "      <td>3079.038997</td>\n",
       "      <td>2018</td>\n",
       "      <td>14.246341</td>\n",
       "    </tr>\n",
       "    <tr>\n",
       "      <th>3</th>\n",
       "      <td>220</td>\n",
       "      <td>NaN</td>\n",
       "      <td>2542.392402</td>\n",
       "      <td>2009</td>\n",
       "      <td>16.912736</td>\n",
       "    </tr>\n",
       "    <tr>\n",
       "      <th>4</th>\n",
       "      <td>210</td>\n",
       "      <td>140.0</td>\n",
       "      <td>3460.870990</td>\n",
       "      <td>2009</td>\n",
       "      <td>12.488369</td>\n",
       "    </tr>\n",
       "    <tr>\n",
       "      <th>...</th>\n",
       "      <td>...</td>\n",
       "      <td>...</td>\n",
       "      <td>...</td>\n",
       "      <td>...</td>\n",
       "      <td>...</td>\n",
       "    </tr>\n",
       "    <tr>\n",
       "      <th>9699</th>\n",
       "      <td>140</td>\n",
       "      <td>164.0</td>\n",
       "      <td>2981.107371</td>\n",
       "      <td>2013</td>\n",
       "      <td>15.101802</td>\n",
       "    </tr>\n",
       "    <tr>\n",
       "      <th>9700</th>\n",
       "      <td>180</td>\n",
       "      <td>154.0</td>\n",
       "      <td>2439.525729</td>\n",
       "      <td>2004</td>\n",
       "      <td>17.962326</td>\n",
       "    </tr>\n",
       "    <tr>\n",
       "      <th>9701</th>\n",
       "      <td>220</td>\n",
       "      <td>138.0</td>\n",
       "      <td>2583.471318</td>\n",
       "      <td>2008</td>\n",
       "      <td>17.186587</td>\n",
       "    </tr>\n",
       "    <tr>\n",
       "      <th>9702</th>\n",
       "      <td>230</td>\n",
       "      <td>177.0</td>\n",
       "      <td>2905.527390</td>\n",
       "      <td>2011</td>\n",
       "      <td>15.331551</td>\n",
       "    </tr>\n",
       "    <tr>\n",
       "      <th>9703</th>\n",
       "      <td>270</td>\n",
       "      <td>140.0</td>\n",
       "      <td>2908.043477</td>\n",
       "      <td>2005</td>\n",
       "      <td>14.884467</td>\n",
       "    </tr>\n",
       "  </tbody>\n",
       "</table>\n",
       "<p>9704 rows × 5 columns</p>\n",
       "</div>"
      ],
      "text/plain": [
       "      engine_displacement  horsepower  vehicle_weight  model_year  \\\n",
       "0                     170       159.0     3413.433759        2003   \n",
       "1                     130        97.0     3149.664934        2007   \n",
       "2                     170        78.0     3079.038997        2018   \n",
       "3                     220         NaN     2542.392402        2009   \n",
       "4                     210       140.0     3460.870990        2009   \n",
       "...                   ...         ...             ...         ...   \n",
       "9699                  140       164.0     2981.107371        2013   \n",
       "9700                  180       154.0     2439.525729        2004   \n",
       "9701                  220       138.0     2583.471318        2008   \n",
       "9702                  230       177.0     2905.527390        2011   \n",
       "9703                  270       140.0     2908.043477        2005   \n",
       "\n",
       "      fuel_efficiency_mpg  \n",
       "0               13.231729  \n",
       "1               13.688217  \n",
       "2               14.246341  \n",
       "3               16.912736  \n",
       "4               12.488369  \n",
       "...                   ...  \n",
       "9699            15.101802  \n",
       "9700            17.962326  \n",
       "9701            17.186587  \n",
       "9702            15.331551  \n",
       "9703            14.884467  \n",
       "\n",
       "[9704 rows x 5 columns]"
      ]
     },
     "execution_count": 59,
     "metadata": {},
     "output_type": "execute_result"
    }
   ],
   "source": [
    "base = [\n",
    "    \"engine_displacement\",\n",
    "    \"horsepower\",\n",
    "    \"vehicle_weight\",\n",
    "    \"model_year\",\n",
    "    \"fuel_efficiency_mpg\",\n",
    "]\n",
    "df = df[base]\n",
    "df"
   ]
  },
  {
   "cell_type": "code",
   "execution_count": 60,
   "id": "53f24560",
   "metadata": {},
   "outputs": [
    {
     "data": {
      "text/plain": [
       "<Axes: xlabel='fuel_efficiency_mpg', ylabel='Count'>"
      ]
     },
     "execution_count": 60,
     "metadata": {},
     "output_type": "execute_result"
    },
    {
     "data": {
      "image/png": "[encoded data removed]",
      "text/plain": [
       "<Figure size 640x480 with 1 Axes>"
      ]
     },
     "metadata": {},
     "output_type": "display_data"
    }
   ],
   "source": [
    "import seaborn as sns\n",
    "\n",
    "sns.histplot(data=df.fuel_efficiency_mpg, bins=50)"
   ]
  },
  {
   "cell_type": "markdown",
   "id": "08ce303a",
   "metadata": {},
   "source": [
    "Question 1\n"
   ]
  },
  {
   "cell_type": "code",
   "execution_count": 61,
   "id": "8c0ef80e",
   "metadata": {},
   "outputs": [
    {
     "data": {
      "text/plain": [
       "engine_displacement      0\n",
       "horsepower             708\n",
       "vehicle_weight           0\n",
       "model_year               0\n",
       "fuel_efficiency_mpg      0\n",
       "dtype: int64"
      ]
     },
     "execution_count": 61,
     "metadata": {},
     "output_type": "execute_result"
    }
   ],
   "source": [
    "df.isnull().sum()"
   ]
  },
  {
   "cell_type": "markdown",
   "id": "6aef98c2",
   "metadata": {},
   "source": [
    "Question 2\n"
   ]
  },
  {
   "cell_type": "code",
   "execution_count": 62,
   "id": "06930ec5",
   "metadata": {},
   "outputs": [
    {
     "data": {
      "text/plain": [
       "np.float64(146.0)"
      ]
     },
     "execution_count": 62,
     "metadata": {},
     "output_type": "execute_result"
    }
   ],
   "source": [
    "numpy.median(df.horsepower.fillna(0).to_numpy())"
   ]
  },
  {
   "cell_type": "markdown",
   "id": "396c7198",
   "metadata": {},
   "source": [
    "Question 3\n"
   ]
  },
  {
   "cell_type": "code",
   "execution_count": null,
   "id": "a75b1687",
   "metadata": {},
   "outputs": [
    {
     "name": "stdout",
     "output_type": "stream",
     "text": [
      "9704 5824 1940 1940\n"
     ]
    }
   ],
   "source": [
    "n = len(df)\n",
    "n_val = int(n * 0.2)\n",
    "n_test = int(n * 0.2)\n",
    "n_train = n - n_val - n_test\n",
    "print(n, n_train, n_val, n_test)\n",
    "\n",
    "# shuffle the data\n",
    "idx = numpy.arange(n)\n",
    "numpy.random.seed(42)\n",
    "numpy.random.shuffle(idx)\n",
    "\n",
    "df_train = df.iloc[idx[:n_train]]\n",
    "df_val = df.iloc[idx[n_train : n_train + n_val]]\n",
    "df_test = df.iloc[idx[n_train + n_val :]]"
   ]
  },
  {
   "cell_type": "code",
   "execution_count": 64,
   "id": "7c97fc81",
   "metadata": {},
   "outputs": [
    {
     "name": "stdout",
     "output_type": "stream",
     "text": [
      "146.0\n"
     ]
    }
   ],
   "source": [
    "def prepare_X0(df):\n",
    "    df = df.copy()\n",
    "    df_num = df.fillna(0)\n",
    "    X = df_num.to_numpy()\n",
    "    return X\n",
    "\n",
    "\n",
    "print(numpy.median(df_train.horsepower.fillna(0).values))\n",
    "\n",
    "\n",
    "def prepare_X_mean(df):\n",
    "    df = df.copy()\n",
    "    df_num = df.fillna(146)\n",
    "    X = df_num.to_numpy()\n",
    "    return X"
   ]
  },
  {
   "cell_type": "code",
   "execution_count": 65,
   "id": "3d1ccc4e",
   "metadata": {},
   "outputs": [],
   "source": [
    "y_train = numpy.log1p(df_train.fuel_efficiency_mpg.values)\n",
    "y_val = numpy.log1p(df_val.fuel_efficiency_mpg.values)\n",
    "y_test = numpy.log1p(df_test.fuel_efficiency_mpg.values)"
   ]
  },
  {
   "cell_type": "code",
   "execution_count": 66,
   "id": "322f9c56",
   "metadata": {},
   "outputs": [],
   "source": [
    "def train_linear_regression(X, y):\n",
    "\n",
    "    ones = numpy.ones(X.shape[0])\n",
    "    X = numpy.column_stack([ones, X])\n",
    "\n",
    "    XTX = X.T.dot(X)\n",
    "    XTX_inv = numpy.linalg.inv(XTX)\n",
    "    w_full = XTX_inv.dot(X.T).dot(y)\n",
    "\n",
    "    w0 = w_full[0]\n",
    "    w = w_full[1:]\n",
    "    return w0, w\n",
    "\n",
    "\n",
    "def rmse(y, y_pred):\n",
    "    error = y - y_pred\n",
    "    se = pow((error), 2)\n",
    "    mse = numpy.mean(se)\n",
    "    rmse = numpy.sqrt(mse)\n",
    "    return rmse"
   ]
  },
  {
   "cell_type": "code",
   "execution_count": 67,
   "id": "23e8b1fb",
   "metadata": {},
   "outputs": [
    {
     "name": "stdout",
     "output_type": "stream",
     "text": [
      "col fill with zero: 0.02\n",
      "col fill with mean: 0.02\n"
     ]
    }
   ],
   "source": [
    "# col fill with zero\n",
    "X_train = prepare_X0(df_train)\n",
    "w0, w = train_linear_regression(X_train, y_train)\n",
    "\n",
    "# Validation\n",
    "X_val = prepare_X0(df_val)\n",
    "y_pred = w0 + X_val.dot(w)\n",
    "print(\"col fill with zero:\", round(rmse(y_val, y_pred), 2))\n",
    "\n",
    "# col fill with mean\n",
    "X_train = prepare_X_mean(df_train)\n",
    "w0, w = train_linear_regression(X_train, y_train)\n",
    "\n",
    "# Validation\n",
    "X_val = prepare_X_mean(df_val)\n",
    "y_pred = w0 + X_val.dot(w)\n",
    "print(\"col fill with mean:\", round(rmse(y_val, y_pred), 2))"
   ]
  },
  {
   "cell_type": "markdown",
   "id": "64894ac3",
   "metadata": {},
   "source": [
    "Question 4\n"
   ]
  },
  {
   "cell_type": "code",
   "execution_count": 68,
   "id": "df8e722f",
   "metadata": {},
   "outputs": [
    {
     "name": "stdout",
     "output_type": "stream",
     "text": [
      "reg parameter:  0 bias term:  1.793818790643904 rmse:  0.02\n",
      "reg parameter:  0.01 bias term:  1.5440754978288922 rmse:  0.02\n",
      "reg parameter:  0.1 bias term:  0.6853622471991292 rmse:  0.02\n",
      "reg parameter:  1 bias term:  0.10451465405937821 rmse:  0.02\n",
      "reg parameter:  5 bias term:  0.021984035809779714 rmse:  0.02\n",
      "reg parameter:  10 bias term:  0.011097019199706668 rmse:  0.02\n",
      "reg parameter:  100 bias term:  0.0011799994601138716 rmse:  0.02\n"
     ]
    }
   ],
   "source": [
    "def train_linear_regression_reg(X, y, r):\n",
    "\n",
    "    ones = numpy.ones(X.shape[0])\n",
    "    X = numpy.column_stack([ones, X])\n",
    "\n",
    "    XTX = X.T.dot(X)\n",
    "    XTX = XTX + r * numpy.eye(XTX.shape[0])\n",
    "    XTX_inv = numpy.linalg.inv(XTX)\n",
    "    w_full = XTX_inv.dot(X.T).dot(y)\n",
    "\n",
    "    w0 = w_full[0]\n",
    "    w = w_full[1:]\n",
    "    return w0, w\n",
    "\n",
    "\n",
    "for r in [0, 0.01, 0.1, 1, 5, 10, 100]:\n",
    "\n",
    "    X_train = prepare_X0(df_train)\n",
    "    w0, w = train_linear_regression_reg(X_train, y_train, r)\n",
    "\n",
    "    # Validation\n",
    "    X_val = prepare_X0(df_val)\n",
    "    y_pred = w0 + X_val.dot(w)\n",
    "    score = round(rmse(y_val, y_pred), 2)\n",
    "\n",
    "    print(\"reg parameter: \", r, \"bias term: \", w0, \"rmse: \", score)"
   ]
  },
  {
   "cell_type": "markdown",
   "id": "4c865815",
   "metadata": {},
   "source": [
    "Question 5\n"
   ]
  },
  {
   "cell_type": "code",
   "execution_count": 69,
   "id": "79ec0292",
   "metadata": {},
   "outputs": [
    {
     "name": "stdout",
     "output_type": "stream",
     "text": [
      "[np.float64(0.17203164227112572), np.float64(0.17188457783933334), np.float64(0.17192137052343773), np.float64(0.17200494822086912), np.float64(0.17200510866947763), np.float64(0.1719731917770468), np.float64(0.1719226538768807), np.float64(0.1719239209805761), np.float64(0.1718757324407074), np.float64(0.17195019015314317)]\n",
      "5.029760407676334e-05\n"
     ]
    },
    {
     "data": {
      "text/plain": [
       "np.float64(0.0)"
      ]
     },
     "execution_count": 69,
     "metadata": {},
     "output_type": "execute_result"
    }
   ],
   "source": [
    "def seed(s):\n",
    "    idx = numpy.arange(n)\n",
    "    numpy.random.seed(s)\n",
    "    numpy.random.shuffle(idx)\n",
    "    return idx\n",
    "\n",
    "\n",
    "scores = []\n",
    "\n",
    "for s in [0, 1, 2, 3, 4, 5, 6, 7, 8, 9]:\n",
    "    idx = seed(s)\n",
    "\n",
    "    df_train = df.iloc[idx[:n_train]]\n",
    "    df_val = df.iloc[idx[n_train : n_train + n_val]]\n",
    "    df_test = df.iloc[idx[n_train + n_val :]]\n",
    "\n",
    "    X_train = prepare_X0(df_train)\n",
    "    w0, w = train_linear_regression(X_train, y_train)\n",
    "\n",
    "    # Validation\n",
    "    X_val = prepare_X0(df_val)\n",
    "    y_pred = w0 + X_val.dot(w)\n",
    "    scores.append(rmse(y_val, y_pred))\n",
    "\n",
    "print(scores)\n",
    "std = numpy.std(scores)\n",
    "print(std)\n",
    "round(std, 3)"
   ]
  },
  {
   "cell_type": "markdown",
   "id": "e7afbdaa",
   "metadata": {},
   "source": [
    "Question 6\n"
   ]
  },
  {
   "cell_type": "code",
   "execution_count": 70,
   "id": "34b1171c",
   "metadata": {},
   "outputs": [
    {
     "data": {
      "text/plain": [
       "np.float64(0.15795028587924337)"
      ]
     },
     "execution_count": 70,
     "metadata": {},
     "output_type": "execute_result"
    }
   ],
   "source": [
    "idx = seed(9)\n",
    "\n",
    "df_train = df.iloc[idx[:n_train]]\n",
    "df_val = df.iloc[idx[n_train : n_train + n_val]]\n",
    "df_test = df.iloc[idx[n_train + n_val :]]\n",
    "\n",
    "train_full = pandas.concat([df_train, df_val])\n",
    "y_full_train = numpy.concatenate([y_train, y_val])\n",
    "\n",
    "X_train = prepare_X0(train_full)\n",
    "w0, w = train_linear_regression_reg(X_train, y_full_train, r=0.001)\n",
    "\n",
    "# Validation\n",
    "X_test = prepare_X0(df_test)\n",
    "y_pred = w0 + X_test.dot(w)\n",
    "rmse(y_test, y_pred)"
   ]
  }
 ],
 "metadata": {
  "kernelspec": {
   "display_name": ".venv",
   "language": "python",
   "name": "python3"
  },
  "language_info": {
   "codemirror_mode": {
    "name": "ipython",
    "version": 3
   },
   "file_extension": ".py",
   "mimetype": "text/x-python",
   "name": "python",
   "nbconvert_exporter": "python",
   "pygments_lexer": "ipython3",
   "version": "3.13.3"
  }
 },
 "nbformat": 4,
 "nbformat_minor": 5
}
