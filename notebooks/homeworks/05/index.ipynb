{
 "cells": [
  {
   "cell_type": "code",
   "execution_count": null,
   "id": "835dbea5",
   "metadata": {},
   "outputs": [],
   "source": [
    "import pickle\n",
    "\n",
    "file_name = \"pipeline_v1.bin\"\n",
    "\n",
    "with open(file_name, \"rb\") as f_in:\n",
    "    pipeline = pickle.load(f_in)"
   ]
  },
  {
   "cell_type": "code",
   "execution_count": null,
   "id": "a4053d6c",
   "metadata": {},
   "outputs": [],
   "source": [
    "rec = {\n",
    "    \"lead_source\": \"paid_ads\",\n",
    "    \"number_of_courses_viewed\": 2,\n",
    "    \"annual_income\": 79276.0,\n",
    "}\n",
    "result = pipeline.predict_proba(rec)[0, 1]\n",
    "result"
   ]
  }
 ],
 "metadata": {
  "language_info": {
   "name": "python"
  }
 },
 "nbformat": 4,
 "nbformat_minor": 5
}
