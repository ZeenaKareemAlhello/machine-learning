{
 "cells": [
  {
   "cell_type": "code",
   "execution_count": 2,
   "id": "ddec5028",
   "metadata": {},
   "outputs": [],
   "source": [
    "import pandas"
   ]
  },
  {
   "cell_type": "markdown",
   "id": "b5f96e1a",
   "metadata": {},
   "source": [
    "Q1. Pandas version\n"
   ]
  },
  {
   "cell_type": "code",
   "execution_count": 3,
   "id": "72e4957d",
   "metadata": {},
   "outputs": [
    {
     "data": {
      "text/plain": [
       "'2.3.2'"
      ]
     },
     "execution_count": 3,
     "metadata": {},
     "output_type": "execute_result"
    }
   ],
   "source": [
    "pandas.__version__"
   ]
  },
  {
   "cell_type": "code",
   "execution_count": null,
   "id": "63ffb252",
   "metadata": {},
   "outputs": [],
   "source": [
    "df = pandas.read_csv(\"../../data/raw/car_fuel_efficiency.csv\")"
   ]
  },
  {
   "cell_type": "markdown",
   "id": "d97aad8c",
   "metadata": {},
   "source": [
    "Q2. Records count\n"
   ]
  },
  {
   "cell_type": "code",
   "execution_count": 5,
   "id": "8c9c0706",
   "metadata": {},
   "outputs": [
    {
     "data": {
      "text/plain": [
       "(9704, 11)"
      ]
     },
     "execution_count": 5,
     "metadata": {},
     "output_type": "execute_result"
    }
   ],
   "source": [
    "df.shape"
   ]
  },
  {
   "cell_type": "markdown",
   "id": "5446f5dc",
   "metadata": {},
   "source": [
    "Q3. Fuel types\n"
   ]
  },
  {
   "cell_type": "code",
   "execution_count": 6,
   "id": "4fc6ba19",
   "metadata": {},
   "outputs": [
    {
     "data": {
      "text/plain": [
       "2"
      ]
     },
     "execution_count": 6,
     "metadata": {},
     "output_type": "execute_result"
    }
   ],
   "source": [
    "df[\"fuel_type\"].nunique()"
   ]
  },
  {
   "cell_type": "markdown",
   "id": "5ea26a81",
   "metadata": {},
   "source": [
    "Q4. Missing values\n"
   ]
  },
  {
   "cell_type": "code",
   "execution_count": 7,
   "id": "4f7a4df2",
   "metadata": {},
   "outputs": [
    {
     "data": {
      "text/plain": [
       "4"
      ]
     },
     "execution_count": 7,
     "metadata": {},
     "output_type": "execute_result"
    }
   ],
   "source": [
    "data = df.isnull().sum().unique()\n",
    "data[data != 0].shape[0]"
   ]
  },
  {
   "cell_type": "markdown",
   "id": "2e3b7233",
   "metadata": {},
   "source": [
    "Q5. Max fuel efficiency\n"
   ]
  },
  {
   "cell_type": "code",
   "execution_count": 8,
   "id": "e075b6d9",
   "metadata": {},
   "outputs": [
    {
     "data": {
      "text/plain": [
       "np.float64(23.759122836520497)"
      ]
     },
     "execution_count": 8,
     "metadata": {},
     "output_type": "execute_result"
    }
   ],
   "source": [
    "df[df.origin == \"Asia\"].fuel_efficiency_mpg.max()"
   ]
  },
  {
   "cell_type": "markdown",
   "id": "e7a08181",
   "metadata": {},
   "source": [
    "Q6. Median value of horsepower\n"
   ]
  },
  {
   "cell_type": "code",
   "execution_count": 9,
   "id": "747b246b",
   "metadata": {},
   "outputs": [
    {
     "name": "stdout",
     "output_type": "stream",
     "text": [
      "149.0\n",
      "horsepowerMostFrequentValue: 152.0\n",
      "152.0\n"
     ]
    }
   ],
   "source": [
    "print(df.horsepower.median())\n",
    "\n",
    "horsepowerMostFrequentValue = df[\"horsepower\"].value_counts().idxmax()\n",
    "print(\"horsepowerMostFrequentValue:\", horsepowerMostFrequentValue)\n",
    "\n",
    "dfWithUnNonValues = df[\"horsepower\"].fillna(horsepowerMostFrequentValue)\n",
    "\n",
    "print(dfWithUnNonValues.median())"
   ]
  },
  {
   "cell_type": "markdown",
   "id": "dc415d81",
   "metadata": {},
   "source": [
    "Q7. Sum of weights\n"
   ]
  },
  {
   "cell_type": "code",
   "execution_count": 27,
   "id": "148d0087",
   "metadata": {},
   "outputs": [
    {
     "name": "stdout",
     "output_type": "stream",
     "text": [
      "[[2714.21930965 2016.        ]\n",
      " [2783.86897424 2010.        ]\n",
      " [3582.68736772 2007.        ]\n",
      " [2231.8081416  2011.        ]\n",
      " [2659.43145076 2016.        ]\n",
      " [2844.22753389 2014.        ]\n",
      " [3761.99403819 2019.        ]]\n",
      "-37551.0\n"
     ]
    }
   ],
   "source": [
    "import numpy\n",
    "\n",
    "carsFromAsia = df[df.origin == \"Asia\"]\n",
    "\n",
    "X = numpy.array(carsFromAsia[[\"vehicle_weight\", \"model_year\"]].head(7))\n",
    "print(X)\n",
    "ones = numpy.ones(X.shape[0])\n",
    "X = numpy.column_stack([ones, X])\n",
    "\n",
    "XTX = X.T.dot(X)\n",
    "TXT = numpy.linalg.inv(XTX)\n",
    "\n",
    "y = numpy.array([1100, 1300, 800, 900, 1000, 1100, 1200])\n",
    "\n",
    "w = TXT@X.T@y\n",
    "print(w.sum().round())\n",
    "# w.sum()"
   ]
  }
 ],
 "metadata": {
  "kernelspec": {
   "display_name": ".venv",
   "language": "python",
   "name": "python3"
  },
  "language_info": {
   "codemirror_mode": {
    "name": "ipython",
    "version": 3
   },
   "file_extension": ".py",
   "mimetype": "text/x-python",
   "name": "python",
   "nbconvert_exporter": "python",
   "pygments_lexer": "ipython3",
   "version": "3.13.3"
  }
 },
 "nbformat": 4,
 "nbformat_minor": 5
}
