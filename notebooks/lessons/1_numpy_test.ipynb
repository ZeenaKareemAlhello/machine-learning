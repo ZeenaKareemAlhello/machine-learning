{
 "cells": [
  {
   "cell_type": "code",
   "execution_count": 4,
   "id": "e0afa7df",
   "metadata": {},
   "outputs": [],
   "source": [
    "import numpy"
   ]
  },
  {
   "cell_type": "code",
   "execution_count": 5,
   "id": "a2ac880b",
   "metadata": {},
   "outputs": [
    {
     "data": {
      "text/plain": [
       "array([1., 1., 1., 1., 1.])"
      ]
     },
     "execution_count": 5,
     "metadata": {},
     "output_type": "execute_result"
    }
   ],
   "source": [
    "numpy.zeros(10)\n",
    "numpy.ones(5)"
   ]
  },
  {
   "cell_type": "code",
   "execution_count": 6,
   "id": "ea760f1d",
   "metadata": {},
   "outputs": [
    {
     "data": {
      "text/plain": [
       "array([7, 7, 7, 7, 7, 7, 7])"
      ]
     },
     "execution_count": 6,
     "metadata": {},
     "output_type": "execute_result"
    }
   ],
   "source": [
    "numpy.full(7, 7)"
   ]
  },
  {
   "cell_type": "code",
   "execution_count": 7,
   "id": "be17e97c",
   "metadata": {},
   "outputs": [
    {
     "data": {
      "text/plain": [
       "array([1, 7])"
      ]
     },
     "execution_count": 7,
     "metadata": {},
     "output_type": "execute_result"
    }
   ],
   "source": [
    "a = numpy.array([1, 2])\n",
    "a[1]\n",
    "a[1] = 7\n",
    "a"
   ]
  },
  {
   "cell_type": "code",
   "execution_count": 8,
   "id": "53b17c67",
   "metadata": {},
   "outputs": [
    {
     "data": {
      "text/plain": [
       "array([5, 6, 7, 8, 9])"
      ]
     },
     "execution_count": 8,
     "metadata": {},
     "output_type": "execute_result"
    }
   ],
   "source": [
    "numpy.arange(5, 10)"
   ]
  },
  {
   "cell_type": "code",
   "execution_count": 9,
   "id": "10ab8464",
   "metadata": {},
   "outputs": [
    {
     "data": {
      "text/plain": [
       "[5, 6, 7, 8, 9]"
      ]
     },
     "execution_count": 9,
     "metadata": {},
     "output_type": "execute_result"
    }
   ],
   "source": [
    "list(range(5, 10))"
   ]
  },
  {
   "cell_type": "code",
   "execution_count": 10,
   "id": "a7a8b6ac",
   "metadata": {},
   "outputs": [
    {
     "data": {
      "text/plain": [
       "array([ 1.        ,  1.18367347,  1.36734694,  1.55102041,  1.73469388,\n",
       "        1.91836735,  2.10204082,  2.28571429,  2.46938776,  2.65306122,\n",
       "        2.83673469,  3.02040816,  3.20408163,  3.3877551 ,  3.57142857,\n",
       "        3.75510204,  3.93877551,  4.12244898,  4.30612245,  4.48979592,\n",
       "        4.67346939,  4.85714286,  5.04081633,  5.2244898 ,  5.40816327,\n",
       "        5.59183673,  5.7755102 ,  5.95918367,  6.14285714,  6.32653061,\n",
       "        6.51020408,  6.69387755,  6.87755102,  7.06122449,  7.24489796,\n",
       "        7.42857143,  7.6122449 ,  7.79591837,  7.97959184,  8.16326531,\n",
       "        8.34693878,  8.53061224,  8.71428571,  8.89795918,  9.08163265,\n",
       "        9.26530612,  9.44897959,  9.63265306,  9.81632653, 10.        ])"
      ]
     },
     "execution_count": 10,
     "metadata": {},
     "output_type": "execute_result"
    }
   ],
   "source": [
    "numpy.linspace(1, 10, 50)"
   ]
  },
  {
   "cell_type": "code",
   "execution_count": 11,
   "id": "704d7b20",
   "metadata": {},
   "outputs": [
    {
     "data": {
      "text/plain": [
       "array([[0., 0.],\n",
       "       [0., 0.],\n",
       "       [0., 0.],\n",
       "       [0., 0.],\n",
       "       [0., 0.]])"
      ]
     },
     "execution_count": 11,
     "metadata": {},
     "output_type": "execute_result"
    }
   ],
   "source": [
    "numpy.zeros((5, 2))"
   ]
  },
  {
   "cell_type": "code",
   "execution_count": 12,
   "id": "abda285d",
   "metadata": {},
   "outputs": [
    {
     "data": {
      "text/plain": [
       "np.int64(7)"
      ]
     },
     "execution_count": 12,
     "metadata": {},
     "output_type": "execute_result"
    }
   ],
   "source": [
    "arr2d = numpy.array([[1, 2, 3], [6, 7, 8]])\n",
    "arr2d[1][1]"
   ]
  },
  {
   "cell_type": "code",
   "execution_count": 13,
   "id": "015660a4",
   "metadata": {},
   "outputs": [
    {
     "data": {
      "text/plain": [
       "3"
      ]
     },
     "execution_count": 13,
     "metadata": {},
     "output_type": "execute_result"
    }
   ],
   "source": [
    "arr3d = numpy.array([[[1, 2, 3], [4, 5, 6]], [[1, 2, 3], [4, 5, 6]]])\n",
    "arr3d\n",
    "arr3d.ndim"
   ]
  },
  {
   "cell_type": "code",
   "execution_count": 14,
   "id": "9b6c8194",
   "metadata": {},
   "outputs": [
    {
     "name": "stdout",
     "output_type": "stream",
     "text": [
      "[[0.89286015 0.33197981 0.82122912]\n",
      " [0.04169663 0.10765668 0.59505206]]\n"
     ]
    }
   ],
   "source": [
    "numpy.random.seed(6)\n",
    "print(numpy.random.rand(2, 3))"
   ]
  },
  {
   "cell_type": "code",
   "execution_count": 15,
   "id": "cdb47336",
   "metadata": {},
   "outputs": [
    {
     "name": "stdout",
     "output_type": "stream",
     "text": [
      "|S1\n",
      "[ True  True  True  True]\n"
     ]
    }
   ],
   "source": [
    "arrObj = numpy.array([1, 2, 3, 0], \"S\")\n",
    "arrDataType = arrObj.dtype\n",
    "print(arrDataType)\n",
    "arrObjInt = arrObj.astype(bool)\n",
    "print(arrObjInt)"
   ]
  },
  {
   "cell_type": "code",
   "execution_count": 16,
   "id": "be908279",
   "metadata": {},
   "outputs": [
    {
     "data": {
      "text/plain": [
       "array([2, 3, 4])"
      ]
     },
     "execution_count": 16,
     "metadata": {},
     "output_type": "execute_result"
    }
   ],
   "source": [
    "# Operations\n",
    "arrObj = numpy.array([1, 2, 3])\n",
    "arrObj + 1"
   ]
  },
  {
   "cell_type": "code",
   "execution_count": 17,
   "id": "76c945e8",
   "metadata": {},
   "outputs": [
    {
     "name": "stdout",
     "output_type": "stream",
     "text": [
      "[1 2 3]\n"
     ]
    },
    {
     "data": {
      "text/plain": [
       "array([False,  True,  True])"
      ]
     },
     "execution_count": 17,
     "metadata": {},
     "output_type": "execute_result"
    }
   ],
   "source": [
    "print(arrObj)\n",
    "arrObj >= 2"
   ]
  },
  {
   "cell_type": "code",
   "execution_count": 18,
   "id": "49cd9a14",
   "metadata": {},
   "outputs": [
    {
     "data": {
      "text/plain": [
       "array([2, 3])"
      ]
     },
     "execution_count": 18,
     "metadata": {},
     "output_type": "execute_result"
    }
   ],
   "source": [
    "arrObj[arrObj >= 2]"
   ]
  },
  {
   "cell_type": "code",
   "execution_count": 19,
   "id": "7467668b",
   "metadata": {},
   "outputs": [
    {
     "data": {
      "text/plain": [
       "np.int64(1)"
      ]
     },
     "execution_count": 19,
     "metadata": {},
     "output_type": "execute_result"
    }
   ],
   "source": [
    "arrObj.min()"
   ]
  },
  {
   "cell_type": "code",
   "execution_count": 20,
   "id": "6be8def0",
   "metadata": {},
   "outputs": [
    {
     "name": "stdout",
     "output_type": "stream",
     "text": [
      "None None\n"
     ]
    }
   ],
   "source": [
    "arrObj = numpy.array([1, 2, 3])\n",
    "arrObj2 = arrObj.copy()\n",
    "arrObj[0] = 4\n",
    "print(arrObj.base, arrObj2.base)"
   ]
  },
  {
   "cell_type": "code",
   "execution_count": 21,
   "id": "c734070d",
   "metadata": {},
   "outputs": [
    {
     "name": "stdout",
     "output_type": "stream",
     "text": [
      "None [1 2 3]\n"
     ]
    }
   ],
   "source": [
    "arrObj = numpy.array([1, 2, 3])\n",
    "\n",
    "arrObj2 = arrObj.view()\n",
    "\n",
    "print(arrObj.base, arrObj2.base)"
   ]
  },
  {
   "cell_type": "code",
   "execution_count": 22,
   "id": "16110c53",
   "metadata": {},
   "outputs": [
    {
     "name": "stdout",
     "output_type": "stream",
     "text": [
      "Variable      Type          Data/Info\n",
      "-------------------------------------\n",
      "I             ndarray       3x3: 9 elems, type `float64`, 72 bytes\n",
      "a             ndarray       2: 2 elems, type `int64`, 16 bytes\n",
      "arr2d         ndarray       2x3: 6 elems, type `int64`, 48 bytes\n",
      "arr3d         ndarray       2x2x3: 12 elems, type `int64`, 96 bytes\n",
      "arrDataType   BytesDType    |S1\n",
      "arrObj        ndarray       3: 3 elems, type `int64`, 24 bytes\n",
      "arrObj2       ndarray       3: 3 elems, type `int64`, 24 bytes\n",
      "arrObjInt     ndarray       4: 4 elems, type `bool`, 4 bytes\n",
      "numpy         module        <module 'numpy' from '/Us<...>kages/numpy/__init__.py'>\n"
     ]
    }
   ],
   "source": [
    "%whos"
   ]
  },
  {
   "cell_type": "code",
   "execution_count": 23,
   "id": "855878e0",
   "metadata": {},
   "outputs": [
    {
     "data": {
      "text/plain": [
       "np.int64(14)"
      ]
     },
     "execution_count": 23,
     "metadata": {},
     "output_type": "execute_result"
    }
   ],
   "source": [
    "# linear Algebra\n",
    "u = numpy.array([1, 0, 0, 2])\n",
    "v = numpy.array([2, 4, 5, 6])\n",
    "\n",
    "\n",
    "def vector_vector_multiplication(u, v):\n",
    "    assert u.shape == v.shape, \"vectors should be same size\"\n",
    "\n",
    "    n = v.shape[0]\n",
    "    sum = 0\n",
    "    for index in range(n):\n",
    "        sum = sum + u[index] * v[index]\n",
    "    return sum\n",
    "\n",
    "\n",
    "vector_vector_multiplication(u, v)\n",
    "\n",
    "numpy.dot(u, v)"
   ]
  },
  {
   "cell_type": "code",
   "execution_count": 24,
   "id": "865d74df",
   "metadata": {},
   "outputs": [
    {
     "name": "stdout",
     "output_type": "stream",
     "text": [
      "[20.   6.   8.5]\n"
     ]
    },
    {
     "data": {
      "text/plain": [
       "array([20. ,  6. ,  8.5])"
      ]
     },
     "execution_count": 24,
     "metadata": {},
     "output_type": "execute_result"
    }
   ],
   "source": [
    "# linear Algebra\n",
    "U = numpy.array([[2, 4, 5, 6], [1, 2, 1, 2], [3, 1, 2, 1]])\n",
    "v = numpy.array([1, 0.5, 2, 1])\n",
    "\n",
    "\n",
    "def matrix_vector_multiplication(u, v):\n",
    "    assert u.shape[1] == v.shape[0]\n",
    "\n",
    "    nRow = numpy.shape(u)[0]\n",
    "    result = numpy.zeros(nRow)\n",
    "\n",
    "    for index in range(nRow):\n",
    "\n",
    "        row = u[index]\n",
    "        result[index] = vector_vector_multiplication(row, v)\n",
    "\n",
    "    return result\n",
    "\n",
    "\n",
    "print(matrix_vector_multiplication(U, v))\n",
    "U.dot(v)"
   ]
  },
  {
   "cell_type": "code",
   "execution_count": 25,
   "id": "da44dae0",
   "metadata": {},
   "outputs": [
    {
     "name": "stdout",
     "output_type": "stream",
     "text": [
      "[[14.  20.  13. ]\n",
      " [ 5.   6.   5. ]\n",
      " [ 5.   8.5  9. ]]\n"
     ]
    },
    {
     "data": {
      "text/plain": [
       "array([[14. , 20. , 13. ],\n",
       "       [ 5. ,  6. ,  5. ],\n",
       "       [ 5. ,  8.5,  9. ]])"
      ]
     },
     "execution_count": 25,
     "metadata": {},
     "output_type": "execute_result"
    }
   ],
   "source": [
    "# linear Algebra\n",
    "U = numpy.array([[2, 4, 5, 6], [1, 2, 1, 2], [3, 1, 2, 1]])\n",
    "V = numpy.array([[1, 1, 2], [0, 0.5, 1], [0, 2, 1], [2, 1, 0]])\n",
    "\n",
    "\n",
    "def matrix_matrix_multiplication(u, v):\n",
    "\n",
    "    result = numpy.zeros((u.shape[0], v.shape[1]))\n",
    "\n",
    "    for colIndex in range(v.shape[1]):\n",
    "        result[:, colIndex] = matrix_vector_multiplication(u, v[:, colIndex])\n",
    "\n",
    "    return result\n",
    "\n",
    "\n",
    "print(matrix_matrix_multiplication(U, V))\n",
    "U.dot(V)"
   ]
  },
  {
   "cell_type": "code",
   "execution_count": null,
   "id": "f3d5f8c9",
   "metadata": {},
   "outputs": [
    {
     "name": "stdout",
     "output_type": "stream",
     "text": [
      "[[1.  1.  2. ]\n",
      " [0.  0.5 1. ]\n",
      " [0.  2.  1. ]]\n",
      "V [[1.  1.  2. ]\n",
      " [0.  0.5 1. ]\n",
      " [0.  2.  1. ]\n",
      " [2.  1.  0. ]]\n",
      "[[1.  1.  2. ]\n",
      " [0.  0.5 1. ]\n",
      " [0.  2.  1. ]]\n"
     ]
    },
    {
     "data": {
      "text/plain": [
       "array([[1., 0., 0.],\n",
       "       [0., 1., 0.],\n",
       "       [0., 0., 1.]])"
      ]
     },
     "execution_count": 30,
     "metadata": {},
     "output_type": "execute_result"
    }
   ],
   "source": [
    "# Identity martix\n",
    "I = numpy.eye(3, 3)\n",
    "print(V[[0, 1, 2]])\n",
    "I.dot(V[[0, 1, 2]])\n",
    "\n",
    "# Inverse matrix\n",
    "vInverse = numpy.linalg.inv(V[[0, 1, 2]])\n",
    "\n",
    "vInverse.dot(V[[0, 1, 2]])"
   ]
  }
 ],
 "metadata": {
  "kernelspec": {
   "display_name": ".venv",
   "language": "python",
   "name": "python3"
  },
  "language_info": {
   "codemirror_mode": {
    "name": "ipython",
    "version": 3
   },
   "file_extension": ".py",
   "mimetype": "text/x-python",
   "name": "python",
   "nbconvert_exporter": "python",
   "pygments_lexer": "ipython3",
   "version": "3.13.3"
  }
 },
 "nbformat": 4,
 "nbformat_minor": 5
}
