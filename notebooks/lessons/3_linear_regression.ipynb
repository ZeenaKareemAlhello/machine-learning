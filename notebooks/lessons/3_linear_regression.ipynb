{
 "cells": [
  {
   "cell_type": "markdown",
   "id": "661760a7",
   "metadata": {},
   "source": [
    "Validation Framework"
   ]
  },
  {
   "cell_type": "code",
   "execution_count": 181,
   "id": "3c6e7ca8",
   "metadata": {},
   "outputs": [],
   "source": [
    "import numpy\n",
    "import pandas"
   ]
  },
  {
   "cell_type": "code",
   "execution_count": null,
   "id": "41713263",
   "metadata": {},
   "outputs": [
    {
     "name": "stderr",
     "output_type": "stream",
     "text": [
      "164863.01s - pydevd: Sending message related to process being replaced timed-out after 5 seconds\n"
     ]
    },
    {
     "name": "stdout",
     "output_type": "stream",
     "text": [
      "  % Total    % Received % Xferd  Average Speed   Time    Time     Time  Current\n",
      "                                 Dload  Upload   Total   Spent    Left  Speed\n",
      "100 1440k  100 1440k    0     0   435k      0  0:00:03  0:00:03 --:--:--  436k\n"
     ]
    }
   ],
   "source": [
    "# download file from host\n",
    "url='https://raw.githubusercontent.com/alexeygrigorev/mlbookcamp-code/refs/heads/master/chapter-02-car-price/data.csv'\n",
    "#!curl -o dataset.csv $url\n"
   ]
  },
  {
   "cell_type": "code",
   "execution_count": null,
   "id": "60dbc025",
   "metadata": {},
   "outputs": [
    {
     "data": {
      "text/html": [
       "<div>\n",
       "<style scoped>\n",
       "    .dataframe tbody tr th:only-of-type {\n",
       "        vertical-align: middle;\n",
       "    }\n",
       "\n",
       "    .dataframe tbody tr th {\n",
       "        vertical-align: top;\n",
       "    }\n",
       "\n",
       "    .dataframe thead th {\n",
       "        text-align: right;\n",
       "    }\n",
       "</style>\n",
       "<table border=\"1\" class=\"dataframe\">\n",
       "  <thead>\n",
       "    <tr style=\"text-align: right;\">\n",
       "      <th></th>\n",
       "      <th>Make</th>\n",
       "      <th>Model</th>\n",
       "      <th>Year</th>\n",
       "      <th>Engine Fuel Type</th>\n",
       "      <th>Engine HP</th>\n",
       "      <th>Engine Cylinders</th>\n",
       "      <th>Transmission Type</th>\n",
       "      <th>Driven_Wheels</th>\n",
       "      <th>Number of Doors</th>\n",
       "      <th>Market Category</th>\n",
       "      <th>Vehicle Size</th>\n",
       "      <th>Vehicle Style</th>\n",
       "      <th>highway MPG</th>\n",
       "      <th>city mpg</th>\n",
       "      <th>Popularity</th>\n",
       "      <th>MSRP</th>\n",
       "    </tr>\n",
       "  </thead>\n",
       "  <tbody>\n",
       "    <tr>\n",
       "      <th>0</th>\n",
       "      <td>BMW</td>\n",
       "      <td>1 Series M</td>\n",
       "      <td>2011</td>\n",
       "      <td>premium unleaded (required)</td>\n",
       "      <td>335.0</td>\n",
       "      <td>6.0</td>\n",
       "      <td>MANUAL</td>\n",
       "      <td>rear wheel drive</td>\n",
       "      <td>2.0</td>\n",
       "      <td>Factory Tuner,Luxury,High-Performance</td>\n",
       "      <td>Compact</td>\n",
       "      <td>Coupe</td>\n",
       "      <td>26</td>\n",
       "      <td>19</td>\n",
       "      <td>3916</td>\n",
       "      <td>46135</td>\n",
       "    </tr>\n",
       "    <tr>\n",
       "      <th>1</th>\n",
       "      <td>BMW</td>\n",
       "      <td>1 Series</td>\n",
       "      <td>2011</td>\n",
       "      <td>premium unleaded (required)</td>\n",
       "      <td>300.0</td>\n",
       "      <td>6.0</td>\n",
       "      <td>MANUAL</td>\n",
       "      <td>rear wheel drive</td>\n",
       "      <td>2.0</td>\n",
       "      <td>Luxury,Performance</td>\n",
       "      <td>Compact</td>\n",
       "      <td>Convertible</td>\n",
       "      <td>28</td>\n",
       "      <td>19</td>\n",
       "      <td>3916</td>\n",
       "      <td>40650</td>\n",
       "    </tr>\n",
       "    <tr>\n",
       "      <th>2</th>\n",
       "      <td>BMW</td>\n",
       "      <td>1 Series</td>\n",
       "      <td>2011</td>\n",
       "      <td>premium unleaded (required)</td>\n",
       "      <td>300.0</td>\n",
       "      <td>6.0</td>\n",
       "      <td>MANUAL</td>\n",
       "      <td>rear wheel drive</td>\n",
       "      <td>2.0</td>\n",
       "      <td>Luxury,High-Performance</td>\n",
       "      <td>Compact</td>\n",
       "      <td>Coupe</td>\n",
       "      <td>28</td>\n",
       "      <td>20</td>\n",
       "      <td>3916</td>\n",
       "      <td>36350</td>\n",
       "    </tr>\n",
       "    <tr>\n",
       "      <th>3</th>\n",
       "      <td>BMW</td>\n",
       "      <td>1 Series</td>\n",
       "      <td>2011</td>\n",
       "      <td>premium unleaded (required)</td>\n",
       "      <td>230.0</td>\n",
       "      <td>6.0</td>\n",
       "      <td>MANUAL</td>\n",
       "      <td>rear wheel drive</td>\n",
       "      <td>2.0</td>\n",
       "      <td>Luxury,Performance</td>\n",
       "      <td>Compact</td>\n",
       "      <td>Coupe</td>\n",
       "      <td>28</td>\n",
       "      <td>18</td>\n",
       "      <td>3916</td>\n",
       "      <td>29450</td>\n",
       "    </tr>\n",
       "    <tr>\n",
       "      <th>4</th>\n",
       "      <td>BMW</td>\n",
       "      <td>1 Series</td>\n",
       "      <td>2011</td>\n",
       "      <td>premium unleaded (required)</td>\n",
       "      <td>230.0</td>\n",
       "      <td>6.0</td>\n",
       "      <td>MANUAL</td>\n",
       "      <td>rear wheel drive</td>\n",
       "      <td>2.0</td>\n",
       "      <td>Luxury</td>\n",
       "      <td>Compact</td>\n",
       "      <td>Convertible</td>\n",
       "      <td>28</td>\n",
       "      <td>18</td>\n",
       "      <td>3916</td>\n",
       "      <td>34500</td>\n",
       "    </tr>\n",
       "  </tbody>\n",
       "</table>\n",
       "</div>"
      ],
      "text/plain": [
       "  Make       Model  Year             Engine Fuel Type  Engine HP  \\\n",
       "0  BMW  1 Series M  2011  premium unleaded (required)      335.0   \n",
       "1  BMW    1 Series  2011  premium unleaded (required)      300.0   \n",
       "2  BMW    1 Series  2011  premium unleaded (required)      300.0   \n",
       "3  BMW    1 Series  2011  premium unleaded (required)      230.0   \n",
       "4  BMW    1 Series  2011  premium unleaded (required)      230.0   \n",
       "\n",
       "   Engine Cylinders Transmission Type     Driven_Wheels  Number of Doors  \\\n",
       "0               6.0            MANUAL  rear wheel drive              2.0   \n",
       "1               6.0            MANUAL  rear wheel drive              2.0   \n",
       "2               6.0            MANUAL  rear wheel drive              2.0   \n",
       "3               6.0            MANUAL  rear wheel drive              2.0   \n",
       "4               6.0            MANUAL  rear wheel drive              2.0   \n",
       "\n",
       "                         Market Category Vehicle Size Vehicle Style  \\\n",
       "0  Factory Tuner,Luxury,High-Performance      Compact         Coupe   \n",
       "1                     Luxury,Performance      Compact   Convertible   \n",
       "2                Luxury,High-Performance      Compact         Coupe   \n",
       "3                     Luxury,Performance      Compact         Coupe   \n",
       "4                                 Luxury      Compact   Convertible   \n",
       "\n",
       "   highway MPG  city mpg  Popularity   MSRP  \n",
       "0           26        19        3916  46135  \n",
       "1           28        19        3916  40650  \n",
       "2           28        20        3916  36350  \n",
       "3           28        18        3916  29450  \n",
       "4           28        18        3916  34500  "
      ]
     },
     "execution_count": 183,
     "metadata": {},
     "output_type": "execute_result"
    }
   ],
   "source": [
    "df = pandas.read_csv(\"../../data/raw/dataset.csv\")\n",
    "df.head()"
   ]
  },
  {
   "cell_type": "code",
   "execution_count": 184,
   "id": "a911fa62",
   "metadata": {},
   "outputs": [
    {
     "name": "stdout",
     "output_type": "stream",
     "text": [
      "Index(['Make', 'Model', 'Year', 'Engine Fuel Type', 'Engine HP',\n",
      "       'Engine Cylinders', 'Transmission Type', 'Driven_Wheels',\n",
      "       'Number of Doors', 'Market Category', 'Vehicle Size', 'Vehicle Style',\n",
      "       'highway MPG', 'city mpg', 'Popularity', 'MSRP'],\n",
      "      dtype='object')\n"
     ]
    }
   ],
   "source": [
    "print(df.columns)\n",
    "df.columns = df.columns.str.lower().str.replace(\" \", \"_\")"
   ]
  },
  {
   "cell_type": "code",
   "execution_count": 185,
   "id": "6c5f2147",
   "metadata": {},
   "outputs": [
    {
     "data": {
      "text/plain": [
       "0            bmw\n",
       "1            bmw\n",
       "2            bmw\n",
       "3            bmw\n",
       "4            bmw\n",
       "          ...   \n",
       "11909      acura\n",
       "11910      acura\n",
       "11911      acura\n",
       "11912      acura\n",
       "11913    lincoln\n",
       "Name: make, Length: 11914, dtype: object"
      ]
     },
     "execution_count": 185,
     "metadata": {},
     "output_type": "execute_result"
    }
   ],
   "source": [
    "# clean the data string of the fields\n",
    "indexes = df.dtypes[df.dtypes == \"object\"].index\n",
    "stringsCol = list(indexes)\n",
    "\n",
    "# df['model'].str.lower().str.replace(\" \", \"_\")\n",
    "\n",
    "for col in stringsCol:\n",
    "    df[col] = df[col].str.lower().str.replace(\" \", \"_\")\n",
    "\n",
    "df[\"make\"]"
   ]
  },
  {
   "cell_type": "code",
   "execution_count": 186,
   "id": "a6d08e8e",
   "metadata": {},
   "outputs": [
    {
     "data": {
      "text/plain": [
       "<Axes: xlabel='msrp', ylabel='Count'>"
      ]
     },
     "execution_count": 186,
     "metadata": {},
     "output_type": "execute_result"
    },
    {
     "data": {
      "image/png": "[encoded data removed]",
      "text/plain": [
       "<Figure size 640x480 with 1 Axes>"
      ]
     },
     "metadata": {},
     "output_type": "display_data"
    }
   ],
   "source": [
    "# clean the data\n",
    "import matplotlib.pyplot as plt\n",
    "import seaborn as sns\n",
    "\n",
    "%matplotlib inline\n",
    "\n",
    "sns.histplot(data=df.msrp, bins=50)"
   ]
  },
  {
   "cell_type": "code",
   "execution_count": 187,
   "id": "f1d0cbbb",
   "metadata": {},
   "outputs": [
    {
     "data": {
      "text/plain": [
       "<Axes: xlabel='msrp', ylabel='Count'>"
      ]
     },
     "execution_count": 187,
     "metadata": {},
     "output_type": "execute_result"
    },
    {
     "data": {
      "image/png": "[encoded data removed]",
      "text/plain": [
       "<Figure size 640x480 with 1 Axes>"
      ]
     },
     "metadata": {},
     "output_type": "display_data"
    }
   ],
   "source": [
    "sns.histplot(df.msrp[df.msrp < 100000], bins=50)"
   ]
  },
  {
   "cell_type": "code",
   "execution_count": 188,
   "id": "7b303090",
   "metadata": {},
   "outputs": [
    {
     "data": {
      "text/plain": [
       "<Axes: xlabel='msrp', ylabel='Count'>"
      ]
     },
     "execution_count": 188,
     "metadata": {},
     "output_type": "execute_result"
    },
    {
     "data": {
      "image/png": "[encoded data removed]",
      "text/plain": [
       "<Figure size 640x480 with 1 Axes>"
      ]
     },
     "metadata": {},
     "output_type": "display_data"
    }
   ],
   "source": [
    "# clean the data from the tail by using log (Data analysis)\n",
    "numpy.log1p([0, 1, 10, 100, 1000])\n",
    "# Normal Distribution\n",
    "price_logs = numpy.log1p(df.msrp)\n",
    "sns.histplot(price_logs, bins=50)"
   ]
  },
  {
   "cell_type": "code",
   "execution_count": 189,
   "id": "9c247671",
   "metadata": {},
   "outputs": [
    {
     "name": "stdout",
     "output_type": "stream",
     "text": [
      "make\n",
      "['bmw' 'audi' 'fiat' 'mercedes-benz' 'chrysler']\n",
      "48\n",
      "\n",
      "model\n",
      "['1_series_m' '1_series' '100' '124_spider' '190-class']\n",
      "914\n",
      "\n",
      "year\n",
      "[2011 2012 2013 1992 1993]\n",
      "28\n",
      "\n",
      "engine_fuel_type\n",
      "['premium_unleaded_(required)' 'regular_unleaded'\n",
      " 'premium_unleaded_(recommended)' 'flex-fuel_(unleaded/e85)' 'diesel']\n",
      "10\n",
      "\n",
      "engine_hp\n",
      "[335. 300. 230. 320. 172.]\n",
      "356\n",
      "\n",
      "engine_cylinders\n",
      "[ 6.  4.  5.  8. 12.]\n",
      "9\n",
      "\n",
      "transmission_type\n",
      "['manual' 'automatic' 'automated_manual' 'direct_drive' 'unknown']\n",
      "5\n",
      "\n",
      "driven_wheels\n",
      "['rear_wheel_drive' 'front_wheel_drive' 'all_wheel_drive'\n",
      " 'four_wheel_drive']\n",
      "4\n",
      "\n",
      "number_of_doors\n",
      "[ 2.  4.  3. nan]\n",
      "3\n",
      "\n",
      "market_category\n",
      "['factory_tuner,luxury,high-performance' 'luxury,performance'\n",
      " 'luxury,high-performance' 'luxury' 'performance']\n",
      "71\n",
      "\n",
      "vehicle_size\n",
      "['compact' 'midsize' 'large']\n",
      "3\n",
      "\n",
      "vehicle_style\n",
      "['coupe' 'convertible' 'sedan' 'wagon' '4dr_hatchback']\n",
      "16\n",
      "\n",
      "highway_mpg\n",
      "[26 28 27 25 24]\n",
      "59\n",
      "\n",
      "city_mpg\n",
      "[19 20 18 17 16]\n",
      "69\n",
      "\n",
      "popularity\n",
      "[3916 3105  819  617 1013]\n",
      "48\n",
      "\n",
      "msrp\n",
      "[46135 40650 36350 29450 34500]\n",
      "6049\n",
      "\n"
     ]
    },
    {
     "data": {
      "text/plain": [
       "make                    0\n",
       "model                   0\n",
       "year                    0\n",
       "engine_fuel_type        3\n",
       "engine_hp              69\n",
       "engine_cylinders       30\n",
       "transmission_type       0\n",
       "driven_wheels           0\n",
       "number_of_doors         6\n",
       "market_category      3742\n",
       "vehicle_size            0\n",
       "vehicle_style           0\n",
       "highway_mpg             0\n",
       "city_mpg                0\n",
       "popularity              0\n",
       "msrp                    0\n",
       "dtype: int64"
      ]
     },
     "execution_count": 189,
     "metadata": {},
     "output_type": "execute_result"
    }
   ],
   "source": [
    "for col in df.columns:\n",
    "    print(col)\n",
    "    print(df[col].unique()[:5])\n",
    "    print(df[col].nunique())\n",
    "    print()\n",
    "\n",
    "df.isnull().sum()"
   ]
  },
  {
   "cell_type": "code",
   "execution_count": 190,
   "id": "56080940",
   "metadata": {},
   "outputs": [
    {
     "name": "stdout",
     "output_type": "stream",
     "text": [
      "11914 7150 2382 2382\n",
      "11914\n"
     ]
    }
   ],
   "source": [
    "n = len(df)\n",
    "n_val = int(n * 0.2)\n",
    "n_test = int(n * 0.2)\n",
    "n_train = n - n_val - n_test\n",
    "print(n, n_train, n_val, n_test)\n",
    "print(n_train + n_val + n_test)"
   ]
  },
  {
   "cell_type": "code",
   "execution_count": 191,
   "id": "adb7cb7c",
   "metadata": {},
   "outputs": [],
   "source": [
    "# shuffle the data\n",
    "idx = numpy.arange(n)\n",
    "numpy.random.seed(2)\n",
    "numpy.random.shuffle(idx)"
   ]
  },
  {
   "cell_type": "code",
   "execution_count": 192,
   "id": "aec31b4c",
   "metadata": {},
   "outputs": [
    {
     "name": "stdout",
     "output_type": "stream",
     "text": [
      "              make        model  year                engine_fuel_type  \\\n",
      "2735     chevrolet       cobalt  2008                regular_unleaded   \n",
      "6720        toyota       matrix  2012                regular_unleaded   \n",
      "5878        subaru      impreza  2016                regular_unleaded   \n",
      "11190   volkswagen      vanagon  1991                regular_unleaded   \n",
      "4554          ford        f-150  2017        flex-fuel_(unleaded/e85)   \n",
      "...            ...          ...   ...                             ...   \n",
      "434            bmw     4_series  2015     premium_unleaded_(required)   \n",
      "1902    volkswagen       beetle  2015  premium_unleaded_(recommended)   \n",
      "9334           gmc  sierra_1500  2015        flex-fuel_(unleaded/e85)   \n",
      "5284   rolls-royce        ghost  2014     premium_unleaded_(required)   \n",
      "2420    volkswagen           cc  2017  premium_unleaded_(recommended)   \n",
      "\n",
      "       engine_hp  engine_cylinders transmission_type      driven_wheels  \\\n",
      "2735       148.0               4.0            manual  front_wheel_drive   \n",
      "6720       132.0               4.0         automatic  front_wheel_drive   \n",
      "5878       148.0               4.0         automatic    all_wheel_drive   \n",
      "11190       90.0               4.0            manual   rear_wheel_drive   \n",
      "4554       385.0               8.0         automatic   four_wheel_drive   \n",
      "...          ...               ...               ...                ...   \n",
      "434        300.0               6.0         automatic   rear_wheel_drive   \n",
      "1902       210.0               4.0  automated_manual  front_wheel_drive   \n",
      "9334       285.0               6.0         automatic   four_wheel_drive   \n",
      "5284       563.0              12.0         automatic   rear_wheel_drive   \n",
      "2420       200.0               4.0  automated_manual  front_wheel_drive   \n",
      "\n",
      "       number_of_doors            market_category vehicle_size  \\\n",
      "2735               2.0                        NaN      compact   \n",
      "6720               4.0                  hatchback      compact   \n",
      "5878               4.0                  hatchback      compact   \n",
      "11190              3.0                        NaN        large   \n",
      "4554               4.0                  flex_fuel        large   \n",
      "...                ...                        ...          ...   \n",
      "434                2.0         luxury,performance      midsize   \n",
      "1902               2.0      hatchback,performance      compact   \n",
      "9334               4.0                  flex_fuel        large   \n",
      "5284               4.0  exotic,luxury,performance        large   \n",
      "2420               4.0                performance      midsize   \n",
      "\n",
      "             vehicle_style  highway_mpg  city_mpg  popularity    msrp  \n",
      "2735                 coupe           33        24        1385   14410  \n",
      "6720         4dr_hatchback           32        25        2031   19685  \n",
      "5878         4dr_hatchback           37        28         640   19795  \n",
      "11190    passenger_minivan           18        16         873    2000  \n",
      "4554       crew_cab_pickup           21        15        5657   56260  \n",
      "...                    ...          ...       ...         ...     ...  \n",
      "434            convertible           31        20        3916   54900  \n",
      "1902         2dr_hatchback           30        24         873   29215  \n",
      "9334   extended_cab_pickup           22        17         549   34675  \n",
      "5284                 sedan           21        13          86  303300  \n",
      "2420                 sedan           31        22         873   37820  \n",
      "\n",
      "[7150 rows x 16 columns]\n"
     ]
    }
   ],
   "source": [
    "# print('test-->',df.iloc[idx[0:5]])\n",
    "\n",
    "df_traing = df.iloc[idx[:n_train]]\n",
    "df_val = df.iloc[idx[n_train : n_train + n_val]]\n",
    "df_test = df.iloc[idx[n_train + n_val :]]\n",
    "\n",
    "print(df_traing)"
   ]
  },
  {
   "cell_type": "code",
   "execution_count": 193,
   "id": "2258ee09",
   "metadata": {},
   "outputs": [],
   "source": [
    "y_train = numpy.log1p(df_traing.msrp.values)\n",
    "y_val = numpy.log1p(df_val.msrp.values)\n",
    "y_test = numpy.log1p(df_test.msrp.values)"
   ]
  },
  {
   "cell_type": "code",
   "execution_count": 194,
   "id": "c4ead65e",
   "metadata": {},
   "outputs": [],
   "source": [
    "del df_traing[\"msrp\"]\n",
    "del df_val[\"msrp\"]\n",
    "del df_test[\"msrp\"]"
   ]
  },
  {
   "cell_type": "markdown",
   "id": "782f388e",
   "metadata": {},
   "source": [
    "Notes:\n",
    "1. download and read the dataset\n",
    "2. clean the columns names\n",
    "3. clean the rows values\n",
    "4. find the feature will work on it and find the normal distribution for it\n",
    "5. shuffle the data\n",
    "6. create the 3 groups of df (training,test,validation)\n",
    "7. apply the log1p on the feature for the tree dataset"
   ]
  },
  {
   "cell_type": "markdown",
   "id": "0a1a57c5",
   "metadata": {},
   "source": [
    "- **Linear Regression** (Training the model)\n",
    "Normal Equation:\n",
    "w = (XT.X)⁻1 . XT.y"
   ]
  },
  {
   "cell_type": "code",
   "execution_count": 195,
   "id": "6b4c4f0c",
   "metadata": {},
   "outputs": [
    {
     "name": "stdout",
     "output_type": "stream",
     "text": [
      "(np.float64(30009.252922766624), array([ -22.78396914, -257.69087426,   -2.30322797]))\n"
     ]
    }
   ],
   "source": [
    "# print(df.iloc[10])\n",
    "# featureMatrix= [engine_hp, city_mpg, popularity]\n",
    "X = [\n",
    "    [148, 24, 1385],\n",
    "    [132, 25, 2031],\n",
    "    [453, 11, 86],\n",
    "    [158, 24, 185],\n",
    "    [172, 25, 201],\n",
    "    [413, 11, 83],\n",
    "    [38, 54, 185],\n",
    "    [142, 25, 431],\n",
    "    [453, 31, 86],\n",
    "]\n",
    "X = numpy.array(X)\n",
    "y = [10000, 20000, 15000, 25000, 10000, 20000, 15000, 25000, 12000]\n",
    "\n",
    "\n",
    "def train_linear_regression(X, y):\n",
    "\n",
    "    ones = numpy.ones(X.shape[0])\n",
    "    X = numpy.column_stack([ones, X])\n",
    "    #print(X)\n",
    "\n",
    "    # GRAM MATRIX (x.T (transpose: switch columns to rows))\n",
    "    XTX = X.T.dot(X)\n",
    "    # print('\\n',X.T)\n",
    "    # Inverse GRAM MATRIX: (XT.X)-1\n",
    " \n",
    "    XTX_inv = numpy.linalg.inv(XTX)\n",
    "\n",
    "    # print(\"XTX.dot(XTX_inv): \\n\", XTX.dot(XTX_inv).round())\n",
    "    w_full = XTX_inv.dot(X.T).dot(y)\n",
    "\n",
    "    w0 = w_full[0]\n",
    "    w = w_full[1:]\n",
    "    return w0, w\n",
    "\n",
    "\n",
    "print(train_linear_regression(X, y))"
   ]
  },
  {
   "cell_type": "code",
   "execution_count": 196,
   "id": "8923e4b7",
   "metadata": {},
   "outputs": [
    {
     "name": "stdout",
     "output_type": "stream",
     "text": [
      "w0: 7.927257388070062 w: [ 9.70589522e-03 -1.59103494e-01  1.43792133e-02  1.49441072e-02\n",
      " -9.06908672e-06]\n"
     ]
    },
    {
     "data": {
      "text/plain": [
       "<Axes: ylabel='Count'>"
      ]
     },
     "execution_count": 196,
     "metadata": {},
     "output_type": "execute_result"
    },
    {
     "data": {
      "image/png": "[encoded data removed]",
      "text/plain": [
       "<Figure size 640x480 with 1 Axes>"
      ]
     },
     "metadata": {},
     "output_type": "display_data"
    }
   ],
   "source": [
    "df_traing.columns\n",
    "base = [\"engine_hp\", \"engine_cylinders\", \"highway_mpg\", \"city_mpg\", \"popularity\"]\n",
    "X_train = df_traing[base].to_numpy()\n",
    "\n",
    "df_traing[base].isnull().sum()\n",
    "X_train = df_traing[base].fillna(0).to_numpy()\n",
    "\n",
    "# print(X_train, \"\\n\", y_train)\n",
    "\n",
    "w0, w = train_linear_regression(X_train, y_train)\n",
    "print(\"w0:\", w0, \"w:\", w)\n",
    "\n",
    "#* pred the price\n",
    "y_pred = w0 + X_train.dot(w)\n",
    "\n",
    "sns.histplot(y_pred, bins=50)\n",
    "sns.histplot(y_train, bins=50)"
   ]
  },
  {
   "cell_type": "markdown",
   "id": "a77ceb7a",
   "metadata": {},
   "source": [
    "Root Mean Squared Error(RMSE)"
   ]
  },
  {
   "cell_type": "code",
   "execution_count": 197,
   "id": "e8fa1e6d",
   "metadata": {},
   "outputs": [
    {
     "name": "stdout",
     "output_type": "stream",
     "text": [
      "0.7554192603920132\n"
     ]
    }
   ],
   "source": [
    "# g(x): pred\n",
    "# y: actual value of the prices\n",
    "\n",
    "def rmse(y, y_pred):\n",
    "    error = y - y_pred\n",
    "    se = pow((error), 2)\n",
    "    mse = numpy.mean(se)\n",
    "    rmse = numpy.sqrt(mse)\n",
    "    return rmse\n",
    "\n",
    "print(rmse(y_train, y_pred))"
   ]
  },
  {
   "cell_type": "markdown",
   "id": "aab158fe",
   "metadata": {},
   "source": [
    "Validating the model"
   ]
  },
  {
   "cell_type": "code",
   "execution_count": 198,
   "id": "d3708ea1",
   "metadata": {},
   "outputs": [
    {
     "name": "stdout",
     "output_type": "stream",
     "text": [
      "0.7616530991301577\n"
     ]
    }
   ],
   "source": [
    "def prepare_X(df):\n",
    "    df_num = df[base]\n",
    "    df_num = df_num.fillna(0)\n",
    "    X = df_num.to_numpy()\n",
    "    return X\n",
    "\n",
    "# Train\n",
    "X_train = prepare_X(df_traing)\n",
    "w0, w = train_linear_regression(X_train, y_train)\n",
    "\n",
    "# Validation\n",
    "X_val = prepare_X(df_val)\n",
    "y_pred = w0 + X_val.dot(w)\n",
    "print(rmse(y_val, y_pred))"
   ]
  },
  {
   "cell_type": "code",
   "execution_count": 199,
   "id": "7aa184b3",
   "metadata": {},
   "outputs": [
    {
     "name": "stdout",
     "output_type": "stream",
     "text": [
      "2735      9\n",
      "6720      5\n",
      "5878      1\n",
      "11190    26\n",
      "4554      0\n",
      "         ..\n",
      "434       2\n",
      "1902      2\n",
      "9334      2\n",
      "5284      3\n",
      "2420      0\n",
      "Name: year, Length: 7150, dtype: int64\n"
     ]
    },
    {
     "data": {
      "text/plain": [
       "make                  object\n",
       "model                 object\n",
       "year                   int64\n",
       "engine_fuel_type      object\n",
       "engine_hp            float64\n",
       "engine_cylinders     float64\n",
       "transmission_type     object\n",
       "driven_wheels         object\n",
       "number_of_doors      float64\n",
       "market_category       object\n",
       "vehicle_size          object\n",
       "vehicle_style         object\n",
       "highway_mpg            int64\n",
       "city_mpg               int64\n",
       "popularity             int64\n",
       "dtype: object"
      ]
     },
     "execution_count": 199,
     "metadata": {},
     "output_type": "execute_result"
    }
   ],
   "source": [
    "# to reduce the rmse will add another feature\n",
    "df_traing.columns\n",
    "df_traing.year.max()\n",
    "\n",
    "# compare how old cars are\n",
    "age = 2017 - df_traing.year\n",
    "print(age)\n",
    "\n",
    "\n",
    "def prepare_X(df):\n",
    "    df = df.copy()\n",
    "\n",
    "    df[\"age\"] = 2017 - df.year\n",
    "    features = base + [\"age\"]\n",
    "    df_num = df[features]\n",
    "\n",
    "    df_num = df_num.fillna(0)\n",
    "    X = df_num.to_numpy()\n",
    "    return X\n",
    "\n",
    "\n",
    "X_train = prepare_X(df_traing)\n",
    "df_traing.dtypes"
   ]
  },
  {
   "cell_type": "code",
   "execution_count": 200,
   "id": "72d53d45",
   "metadata": {},
   "outputs": [
    {
     "name": "stdout",
     "output_type": "stream",
     "text": [
      "0.5172055461058291\n"
     ]
    },
    {
     "data": {
      "text/plain": [
       "<Axes: ylabel='Count'>"
      ]
     },
     "execution_count": 200,
     "metadata": {},
     "output_type": "execute_result"
    },
    {
     "data": {
      "image/png": "[encoded data removed]",
      "text/plain": [
       "<Figure size 640x480 with 1 Axes>"
      ]
     },
     "metadata": {},
     "output_type": "display_data"
    }
   ],
   "source": [
    "# Train\n",
    "X_train = prepare_X(df_traing)\n",
    "w0, w = train_linear_regression(X_train, y_train)\n",
    "\n",
    "# Validation\n",
    "X_val = prepare_X(df_val)\n",
    "y_pred = w0 + X_val.dot(w)\n",
    "print(rmse(y_val, y_pred))\n",
    "\n",
    "sns.histplot(y_pred, bins=50)\n",
    "sns.histplot(y_val, bins=50)"
   ]
  },
  {
   "cell_type": "markdown",
   "id": "91c4840e",
   "metadata": {},
   "source": [
    "# Categorical Variables: One-Hot encoding(not int dtypes that will modify the df to add their values as numeric)\n",
    "by take the most populare values of them"
   ]
  },
  {
   "cell_type": "code",
   "execution_count": null,
   "id": "7b146954",
   "metadata": {},
   "outputs": [
    {
     "name": "stdout",
     "output_type": "stream",
     "text": [
      "0.509096331019153\n"
     ]
    }
   ],
   "source": [
    "df_traing.dtypes\n",
    "# take the most populare values of the column (make)\n",
    "makes = list(df_traing.make.value_counts().head(5).index)\n",
    "df_traing[\"make\"]\n",
    "\n",
    "\n",
    "def prepare_X(df):\n",
    "\n",
    "    df = df.copy()\n",
    "\n",
    "    df[\"age\"] = 2017 - df.year\n",
    "    # append the feature name to the features to take and train on them\n",
    "    features = base + [\"age\"]\n",
    "\n",
    "    # check the cars if the are from these popoulare values\n",
    "    for c in makes:\n",
    "        # create the col and fill the data\n",
    "        df[\"make_%s\" % c] = (df[\"make\"] == c).astype(\"int\")\n",
    "        # include the new col feature with the traning\n",
    "        features = features + [\"make_%s\" % c]\n",
    "    \n",
    "    df_num = df[features]\n",
    "\n",
    "    df_num = df_num.fillna(0)\n",
    "    X = df_num.to_numpy()\n",
    "    return X\n",
    "\n",
    "# Train\n",
    "X_train = prepare_X(df_traing)\n",
    "w0, w = train_linear_regression(X_train, y_train)\n",
    "\n",
    "# Validation\n",
    "X_val = prepare_X(df_val)\n",
    "y_pred = w0 + X_val.dot(w)\n",
    "print(rmse(y_val, y_pred))"
   ]
  },
  {
   "cell_type": "code",
   "execution_count": 202,
   "id": "5744fa8a",
   "metadata": {},
   "outputs": [
    {
     "name": "stdout",
     "output_type": "stream",
     "text": [
      "[[4 4 4]\n",
      " [3 5 5]\n",
      " [5 1 2]] \n",
      "\n",
      " [[4.     4.     4.    ]\n",
      " [3.     5.     5.    ]\n",
      " [5.     1.     1.0001]] \n",
      "\n",
      "DTD \n",
      " [[50 36 41]\n",
      " [36 42 43]\n",
      " [41 43 45]]\n",
      "[-0.375 -3.625  4.25 ]\n",
      "DNTDN \n",
      " [[50.         36.         36.0005    ]\n",
      " [36.         42.         42.0001    ]\n",
      " [36.0005     42.0001     42.00020001]]\n",
      "numpy.linalg.inv(DNTDN):\n",
      " [[ 6.25000000e-01 -5.00000000e-01 -3.63797881e-13]\n",
      " [ 2.74996250e+04 -1.99995000e+04 -1.00000000e+04]\n",
      " [-2.75000000e+04  2.00000000e+04  1.00000000e+04]] \n",
      "\n",
      "[-3.75008515e-01 -4.24995805e+04  4.25002055e+04]\n"
     ]
    }
   ],
   "source": [
    "# ex.\n",
    "data = numpy.array([[4, 4, 4], [3, 5, 5], [5, 1, 2]])\n",
    "dataWithNose = numpy.array(\n",
    "    [[4, 4, 4], [3, 5, 5], [5, 1, 1.0001]]\n",
    ")\n",
    "y = [1, 2, 3]\n",
    "\n",
    "print(data, \"\\n\\n\", dataWithNose, \"\\n\")\n",
    "\n",
    "DTD = data.T.dot(data)\n",
    "print(\"DTD \\n\", DTD)\n",
    "# not have an inverse\n",
    "print(numpy.linalg.inv(DTD).dot(data.T).dot(y))\n",
    "\n",
    "DNTDN = dataWithNose.T.dot(dataWithNose)\n",
    "print(\"DNTDN \\n\", DNTDN)\n",
    "print(\"numpy.linalg.inv(DNTDN):\\n\",numpy.linalg.inv(dataWithNose),'\\n')\n",
    "print(numpy.linalg.inv(DNTDN).dot(dataWithNose.T).dot(y))"
   ]
  },
  {
   "cell_type": "markdown",
   "id": "0e66914a",
   "metadata": {},
   "source": [
    "# Regularization (Ridge Regression)\n",
    "adding a factor to the diagonals of Gram Matrix"
   ]
  },
  {
   "cell_type": "code",
   "execution_count": 205,
   "id": "6a507ceb",
   "metadata": {},
   "outputs": [
    {
     "name": "stdout",
     "output_type": "stream",
     "text": [
      "[[50.         36.         36.0005    ]\n",
      " [36.         42.         42.0001    ]\n",
      " [36.0005     42.0001     42.00020001]]\n",
      "[[ 6.40627845e-01  2.71871471e+04 -2.71876315e+04]\n",
      " [ 2.71871471e+04  1.25621545e+09 -1.25623576e+09]\n",
      " [-2.71876315e+04 -1.25623576e+09  1.25625608e+09]]\n",
      "[[50.01       36.         36.0005    ]\n",
      " [36.         42.01       42.0001    ]\n",
      " [36.0005     42.0001     42.01020001]]\n"
     ]
    },
    {
     "data": {
      "text/plain": [
       "array([[ 5.22025113e-02, -2.12885909e-02, -2.34512942e-02],\n",
       "       [-2.12885909e-02,  5.00147279e+01, -4.99844603e+01],\n",
       "       [-2.34512942e-02, -4.99844603e+01,  5.00163434e+01]])"
      ]
     },
     "execution_count": 205,
     "metadata": {},
     "output_type": "execute_result"
    }
   ],
   "source": [
    "# ex.\n",
    "Xe = numpy.array([[4, 4, 4], [3, 5, 5], [5, 1, 1.0001]])\n",
    "\n",
    "XTXe = Xe.T.dot(Xe)\n",
    "print(XTXe)\n",
    "print(numpy.linalg.inv(XTXe))\n",
    "# the problem in the inverse process ,so we handle the data and send it to inverse\n",
    "XTXe = XTXe + 0.01 * numpy.eye(3)\n",
    "print(XTXe)\n",
    "numpy.linalg.inv(XTXe)"
   ]
  },
  {
   "cell_type": "code",
   "execution_count": null,
   "id": "511887d7",
   "metadata": {},
   "outputs": [
    {
     "name": "stdout",
     "output_type": "stream",
     "text": [
      "0.5091001303035438\n"
     ]
    }
   ],
   "source": [
    "def train_linear_regression_reg(X, y, r=0.001):\n",
    "\n",
    "    ones = numpy.ones(X.shape[0])\n",
    "    X = numpy.column_stack([ones, X])\n",
    "    # print(X)\n",
    "\n",
    "    # GRAM MATRIX (x.T (transpose: switch columns to rows))\n",
    "    XTX = X.T.dot(X)\n",
    "    # print('\\n',X.T)\n",
    "    # Inverse GRAM MATRIX: (XT.X)-1\n",
    "\n",
    "    XTX = XTX + r * numpy.eye(XTX.shape[0])\n",
    "    XTX_inv = numpy.linalg.inv(XTX)\n",
    "\n",
    "    # print(\"XTX.dot(XTX_inv): \\n\", XTX.dot(XTX_inv).round())\n",
    "    w_full = XTX_inv.dot(X.T).dot(y)\n",
    "\n",
    "    w0 = w_full[0]\n",
    "    w = w_full[1:]\n",
    "    return w0, w\n",
    "\n",
    "\n",
    "# Train\n",
    "X_train = prepare_X(df_traing)\n",
    "w0, w = train_linear_regression_reg(X_train, y_train, 0.01)\n",
    "\n",
    "# Validation\n",
    "X_val = prepare_X(df_val)\n",
    "y_pred = w0 + X_val.dot(w)\n",
    "print(rmse(y_val, y_pred))"
   ]
  },
  {
   "cell_type": "code",
   "execution_count": 216,
   "id": "7c50a2ba",
   "metadata": {},
   "outputs": [
    {
     "name": "stdout",
     "output_type": "stream",
     "text": [
      "reg parameter:  0.0 bias term:  9.31472057279352 rmse:  0.509096331019153\n",
      "reg parameter:  1e-05 bias term:  9.31471984529014 rmse:  0.5090963348108922\n",
      "reg parameter:  0.0001 bias term:  9.314713297770824 rmse:  0.5090963689372102\n",
      "reg parameter:  0.001 bias term:  9.314647823084494 rmse:  0.5090967102676937\n",
      "reg parameter:  0.01 bias term:  9.31399312761167 rmse:  0.5091001303035438\n",
      "reg parameter:  0.1 bias term:  9.307451307409115 rmse:  0.5091350026178657\n",
      "reg parameter:  1 bias term:  9.242542511188963 rmse:  0.5095497894720108\n",
      "reg parameter:  10 bias term:  8.64064498120966 rmse:  0.5192630606106425\n"
     ]
    }
   ],
   "source": [
    "# find the best r value that improve the model\n",
    "for r in [0.0, 0.00001, 0.0001, 0.001, 0.01, 0.1, 1, 10]:\n",
    "    X_train = prepare_X(df_traing)\n",
    "    w0, w = train_linear_regression_reg(X_train, y_train, r=r)\n",
    " \n",
    "    X_val = prepare_X(df_val)\n",
    "    y_pred = w0 + X_val.dot(w)\n",
    " \n",
    "    score = rmse(y_val, y_pred)\n",
    "     \n",
    "    print(\"reg parameter: \",r, \"bias term: \",w0, \"rmse: \",score)\n",
    " "
   ]
  }
 ],
 "metadata": {
  "kernelspec": {
   "display_name": ".venv",
   "language": "python",
   "name": "python3"
  },
  "language_info": {
   "codemirror_mode": {
    "name": "ipython",
    "version": 3
   },
   "file_extension": ".py",
   "mimetype": "text/x-python",
   "name": "python",
   "nbconvert_exporter": "python",
   "pygments_lexer": "ipython3",
   "version": "3.13.3"
  }
 },
 "nbformat": 4,
 "nbformat_minor": 5
}
